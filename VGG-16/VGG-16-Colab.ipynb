{
 "cells": [
  {
   "cell_type": "code",
   "execution_count": null,
   "metadata": {
    "colab": {},
    "colab_type": "code",
    "id": "E3qOMCab7buY"
   },
   "outputs": [],
   "source": [
    "import tensorflow as tf\n",
    "from tensorflow import keras\n",
    "from keras.layers import Dense, Dropout, Conv2D, MaxPooling2D, Flatten\n",
    "from keras.models import Sequential\n",
    "from keras import Model\n",
    "from keras import Input\n",
    "from keras.utils import plot_model\n",
    "from keras.layers import concatenate\n",
    "from keras.optimizers import Adam\n",
    "from keras.regularizers import l2\n",
    "from keras.callbacks import EarlyStopping, ModelCheckpoint\n",
    "from keras.models import load_model\n",
    "from keras import backend as K\n",
    "\n",
    "from sklearn.preprocessing import OneHotEncoder\n",
    "\n",
    "import numpy as np\n",
    "import pandas as pd\n",
    "import cv2\n",
    "import matplotlib.pyplot as plt\n",
    "import scipy.io as sio\n",
    "import os\n",
    "\n",
    "%matplotlib inline"
   ]
  },
  {
   "cell_type": "code",
   "execution_count": null,
   "metadata": {
    "colab": {
     "base_uri": "https://localhost:8080/",
     "height": 34
    },
    "colab_type": "code",
    "id": "nsGwIF0P7buf",
    "outputId": "06b19fca-63d7-4a13-c566-2ae0e055b856"
   },
   "outputs": [],
   "source": [
    "print(\"Num GPUs Available: \", len(tf.config.experimental.list_physical_devices('GPU')))"
   ]
  },
  {
   "cell_type": "code",
   "execution_count": null,
   "metadata": {
    "colab": {
     "base_uri": "https://localhost:8080/",
     "height": 34
    },
    "colab_type": "code",
    "id": "GtSWPoT99EHy",
    "outputId": "051dc875-9f78-47f5-bd41-38db498755a5"
   },
   "outputs": [],
   "source": [
    "from google.colab import drive\n",
    "drive.mount('/content/drive')"
   ]
  },
  {
   "cell_type": "code",
   "execution_count": null,
   "metadata": {
    "colab": {},
    "colab_type": "code",
    "id": "RLhl5cyq7bul"
   },
   "outputs": [],
   "source": [
    "imgloc_train = []\n",
    "label_train = []\n",
    "\n",
    "imgloc_val = []\n",
    "label_val = []\n",
    "\n",
    "for dirname, _, filenames in os.walk('/content/drive/My Drive/Project Data/Train/Adults'):\n",
    "    for filename in filenames[:-50]:\n",
    "        imgloc_train.append((os.path.join(dirname, filename)))\n",
    "        label_train.append(0)\n",
    "    for filename in filenames[-50:]:\n",
    "        imgloc_val.append((os.path.join(dirname, filename)))\n",
    "        label_val.append(0)\n",
    "        \n",
    "for dirname, _, filenames in os.walk('/content/drive/My Drive/Project Data/Train/Teenagers'):\n",
    "    for filename in filenames[:-50]:\n",
    "        imgloc_train.append((os.path.join(dirname, filename)))\n",
    "        label_train.append(1)\n",
    "    for filename in filenames[-50:]:\n",
    "        imgloc_val.append((os.path.join(dirname, filename)))\n",
    "        label_val.append(1)\n",
    "        \n",
    "for dirname, _, filenames in os.walk('/content/drive/My Drive/Project Data/Train/Toddler'):\n",
    "    for filename in filenames[:-50]:\n",
    "        imgloc_train.append((os.path.join(dirname, filename)))\n",
    "        label_train.append(2)\n",
    "    for filename in filenames[-50:]:\n",
    "        imgloc_val.append((os.path.join(dirname, filename)))\n",
    "        label_val.append(2)"
   ]
  },
  {
   "cell_type": "code",
   "execution_count": null,
   "metadata": {
    "colab": {},
    "colab_type": "code",
    "id": "z9VXEGhZ7buo"
   },
   "outputs": [],
   "source": [
    "img_train = []\n",
    "img_val = []\n",
    "\n",
    "for i in range(0, len(imgloc_train)):\n",
    "    img1 = cv2.imread(imgloc_train[i],1)\n",
    "    img2 = np.array(img1)\n",
    "    img2 = cv2.resize(img2,(224,224))\n",
    "    img_train.append(cv2.cvtColor(img2,cv2.COLOR_BGR2RGB))\n",
    "    \n",
    "for i in range(0, len(imgloc_val)):\n",
    "    img1 = cv2.imread(imgloc_val[i],1)\n",
    "    img2 = np.array(img1)\n",
    "    img2 = cv2.resize(img2,(224,224))\n",
    "    img_val.append(cv2.cvtColor(img2,cv2.COLOR_BGR2RGB))"
   ]
  },
  {
   "cell_type": "code",
   "execution_count": null,
   "metadata": {
    "colab": {},
    "colab_type": "code",
    "id": "NK1qGG3Q7bus"
   },
   "outputs": [],
   "source": [
    "img_train = np.array(img_train)\n",
    "label_train = np.array(label_train).reshape(-1,1)\n",
    "\n",
    "img_val = np.array(img_val)\n",
    "label_val = np.array(label_val).reshape(-1,1)"
   ]
  },
  {
   "cell_type": "code",
   "execution_count": null,
   "metadata": {
    "colab": {
     "base_uri": "https://localhost:8080/",
     "height": 285
    },
    "colab_type": "code",
    "id": "k08hcJE87buw",
    "outputId": "4c4f257f-b073-475b-9a9e-098d98c19a10"
   },
   "outputs": [],
   "source": [
    "i = 5\n",
    "plt.imshow(img_train[i])\n",
    "plt.imshow(img_val[i])"
   ]
  },
  {
   "cell_type": "code",
   "execution_count": null,
   "metadata": {
    "colab": {
     "base_uri": "https://localhost:8080/",
     "height": 34
    },
    "colab_type": "code",
    "id": "M039cQWs7bu1",
    "outputId": "6f368ea8-ee49-4809-b513-4fba19188afd"
   },
   "outputs": [],
   "source": [
    "img_train.shape"
   ]
  },
  {
   "cell_type": "code",
   "execution_count": null,
   "metadata": {
    "colab": {},
    "colab_type": "code",
    "id": "VftH6nph7bu5"
   },
   "outputs": [],
   "source": [
    "x_train = img_train/255\n",
    "x_val = img_val/255"
   ]
  },
  {
   "cell_type": "code",
   "execution_count": null,
   "metadata": {
    "colab": {},
    "colab_type": "code",
    "id": "rEpXcuqU7bu9"
   },
   "outputs": [],
   "source": [
    "enc_y = OneHotEncoder(handle_unknown='ignore')\n",
    "enc_y.fit(label_train)\n",
    "y_train = enc_y.transform(label_train).toarray()\n",
    "y_val = enc_y.transform(label_val).toarray()"
   ]
  },
  {
   "cell_type": "code",
   "execution_count": null,
   "metadata": {
    "colab": {
     "base_uri": "https://localhost:8080/",
     "height": 34
    },
    "colab_type": "code",
    "id": "usgmGO4V7bvB",
    "outputId": "5fe4b036-c37e-4cfc-e302-0735a47b3183"
   },
   "outputs": [],
   "source": [
    "x_train.shape"
   ]
  },
  {
   "cell_type": "code",
   "execution_count": null,
   "metadata": {
    "colab": {
     "base_uri": "https://localhost:8080/",
     "height": 34
    },
    "colab_type": "code",
    "id": "fBsC1RJy7bvF",
    "outputId": "b5e27dd5-0648-48c2-ffac-7db11af063ef"
   },
   "outputs": [],
   "source": [
    "y_train.shape"
   ]
  },
  {
   "cell_type": "code",
   "execution_count": null,
   "metadata": {
    "colab": {},
    "colab_type": "code",
    "id": "KxNR-NXS7bvK"
   },
   "outputs": [],
   "source": [
    "# reg = l2(1e-3)\n",
    "reg = None\n",
    "\n",
    "model = Sequential()\n",
    "\n",
    "model.add(Conv2D(64, kernel_size = (3, 3), strides = (1, 1), activation = 'relu', input_shape = x_train[0].shape,\n",
    "                 kernel_regularizer = reg, padding='same'))\n",
    "model.add(Conv2D(64, kernel_size = (3, 3), strides = (1, 1), activation = 'relu',\n",
    "                 padding='same', kernel_regularizer = reg))\n",
    "\n",
    "model.add(MaxPooling2D(pool_size = (2, 2), strides = (2, 2)))\n",
    "\n",
    "model.add(Conv2D(128, kernel_size = (3, 3), strides = (1, 1), activation = 'relu',\n",
    "                 padding='same', kernel_regularizer = reg))\n",
    "model.add(Conv2D(128, kernel_size = (3, 3), strides = (1, 1), activation = 'relu',\n",
    "                 padding='same', kernel_regularizer = reg))\n",
    "\n",
    "model.add(MaxPooling2D(pool_size = (2, 2), strides = (2, 2)))\n",
    "\n",
    "model.add(Conv2D(256, kernel_size = (3, 3), strides = (1, 1), activation = 'relu',\n",
    "                 padding='same', kernel_regularizer = reg))\n",
    "model.add(Conv2D(256, kernel_size = (3, 3), strides = (1, 1), activation = 'relu',\n",
    "                 padding='same', kernel_regularizer = reg))\n",
    "model.add(Conv2D(256, kernel_size = (3, 3), strides = (1, 1), activation = 'relu',\n",
    "                 padding='same', kernel_regularizer = reg))\n",
    "\n",
    "model.add(MaxPooling2D(pool_size = (2, 2), strides = (2, 2)))\n",
    "\n",
    "model.add(Conv2D(512, kernel_size = (3, 3), strides = (1, 1), activation = 'relu',\n",
    "                 padding='same', kernel_regularizer = reg))\n",
    "model.add(Conv2D(512, kernel_size = (3, 3), strides = (1, 1), activation = 'relu',\n",
    "                 padding='same', kernel_regularizer = reg))\n",
    "model.add(Conv2D(512, kernel_size = (3, 3), strides = (1, 1), activation = 'relu',\n",
    "                 padding='same', kernel_regularizer = reg))\n",
    "\n",
    "model.add(MaxPooling2D(pool_size = (2, 2), strides = (2, 2)))\n",
    "\n",
    "model.add(Conv2D(512, kernel_size = (3, 3), strides = (1, 1), activation = 'relu',\n",
    "                 padding='same', kernel_regularizer = reg))\n",
    "model.add(Conv2D(512, kernel_size = (3, 3), strides = (1, 1), activation = 'relu',\n",
    "                 padding='same', kernel_regularizer = reg))\n",
    "model.add(Conv2D(512, kernel_size = (3, 3), strides = (1, 1), activation = 'relu',\n",
    "                 padding='same', kernel_regularizer = reg))\n",
    "\n",
    "model.add(MaxPooling2D(pool_size = (2, 2), strides = (2, 2)))\n",
    "\n",
    "model.add(Conv2D(512, kernel_size = (3, 3), strides = (1, 1), activation = 'relu',\n",
    "                 padding='same', kernel_regularizer = reg))\n",
    "\n",
    "model.add(Flatten())\n",
    "\n",
    "model.add(Dense(4096, activation = 'relu', kernel_regularizer = reg))\n",
    "model.add(Dense(4096, activation = 'relu', kernel_regularizer = reg))\n",
    "model.add(Dense(3, activation = 'softmax', kernel_regularizer = reg))\n",
    "#FCC Needs changing\n",
    "# model.load_weights('LeNet.h5')"
   ]
  },
  {
   "cell_type": "code",
   "execution_count": null,
   "metadata": {
    "colab": {
     "base_uri": "https://localhost:8080/",
     "height": 487
    },
    "colab_type": "code",
    "id": "GUltEGaJ7bvO",
    "outputId": "b5056b36-5419-4250-ecf5-ce04fc86b6e9"
   },
   "outputs": [],
   "source": [
    "model.summary()"
   ]
  },
  {
   "cell_type": "code",
   "execution_count": null,
   "metadata": {
    "colab": {},
    "colab_type": "code",
    "id": "_jXxkfEA7bvS"
   },
   "outputs": [],
   "source": [
    "adam = Adam(learning_rate = 0.000001)\n",
    "model.compile(loss='categorical_crossentropy', optimizer=adam, metrics = ['categorical_accuracy'])"
   ]
  },
  {
   "cell_type": "code",
   "execution_count": null,
   "metadata": {
    "colab": {
     "base_uri": "https://localhost:8080/",
     "height": 1000
    },
    "colab_type": "code",
    "id": "0vXjl_2x7bvW",
    "outputId": "4e3e79ef-d282-484c-c2f9-482f8133eadd"
   },
   "outputs": [],
   "source": [
    "es = EarlyStopping(monitor='loss', mode='min', verbose=1, patience=10)\n",
    "mc = ModelCheckpoint('VGG16-colab.h5', monitor='loss', mode='min', save_best_only=True, verbose=1)\n",
    "callbacks = [es, mc]\n",
    "\n",
    "history = model.fit(\n",
    "    x = x_train,\n",
    "    y = y_train,\n",
    "    epochs=500, batch_size=32,\n",
    "    validation_data = (x_val,y_val),\n",
    "    verbose = 1, callbacks = callbacks)"
   ]
  },
  {
   "cell_type": "code",
   "execution_count": null,
   "metadata": {
    "colab": {},
    "colab_type": "code",
    "id": "3l9z0tje7bva"
   },
   "outputs": [],
   "source": [
    "model = load_model('VGG16-colab.h5')"
   ]
  },
  {
   "cell_type": "code",
   "execution_count": null,
   "metadata": {
    "colab": {},
    "colab_type": "code",
    "id": "_OXNgg_KQYaw"
   },
   "outputs": [],
   "source": [
    "model.save('/content/drive/My Drive/Project Data/VGG16-colab.h5')"
   ]
  },
  {
   "cell_type": "code",
   "execution_count": null,
   "metadata": {
    "colab": {
     "base_uri": "https://localhost:8080/",
     "height": 265
    },
    "colab_type": "code",
    "id": "xsFqMcDl7bvd",
    "outputId": "2dc6f0a5-a7d2-4ef1-f1d7-832969b885ea"
   },
   "outputs": [],
   "source": [
    "plt.figure()\n",
    "plt.plot(history.history['loss'], label='train')\n",
    "plt.plot(history.history['val_loss'], label='val')\n",
    "plt.legend()\n",
    "plt.show()"
   ]
  },
  {
   "cell_type": "code",
   "execution_count": null,
   "metadata": {
    "colab": {
     "base_uri": "https://localhost:8080/",
     "height": 265
    },
    "colab_type": "code",
    "id": "pYgBF-Om7bvh",
    "outputId": "778aae65-93cc-4ea1-94cf-83daa334c718"
   },
   "outputs": [],
   "source": [
    "plt.figure()\n",
    "plt.plot(history.history['categorical_accuracy'], label='train')\n",
    "plt.plot(history.history['val_categorical_accuracy'], label='val')\n",
    "plt.legend()\n",
    "plt.show()"
   ]
  },
  {
   "cell_type": "code",
   "execution_count": null,
   "metadata": {
    "colab": {
     "base_uri": "https://localhost:8080/",
     "height": 50
    },
    "colab_type": "code",
    "id": "qA3MJk7d7bvn",
    "outputId": "f1edd2b5-a371-4741-abc7-29248c8c6564"
   },
   "outputs": [],
   "source": [
    "#loss 0.92\n",
    "#acc 0.57\n",
    "model.evaluate(x_train,y_train)"
   ]
  },
  {
   "cell_type": "code",
   "execution_count": null,
   "metadata": {
    "colab": {},
    "colab_type": "code",
    "id": "6SIBT2i57bvr"
   },
   "outputs": [],
   "source": [
    "ymodel = model.predict(x_val)\n",
    "ymodel = enc_y.inverse_transform(ymodel)"
   ]
  },
  {
   "cell_type": "code",
   "execution_count": null,
   "metadata": {
    "colab": {},
    "colab_type": "code",
    "id": "BQ7Bllh27bvu"
   },
   "outputs": [],
   "source": [
    "from sklearn.metrics import confusion_matrix\n",
    "from sklearn.metrics import f1_score\n",
    "from sklearn.metrics import precision_recall_fscore_support"
   ]
  },
  {
   "cell_type": "code",
   "execution_count": null,
   "metadata": {
    "colab": {
     "base_uri": "https://localhost:8080/",
     "height": 67
    },
    "colab_type": "code",
    "id": "eSUEs8vI7bvx",
    "outputId": "3d075838-d289-45b4-de87-82d77c76e33d"
   },
   "outputs": [],
   "source": [
    "confusion_matrix(label_val,ymodel)"
   ]
  },
  {
   "cell_type": "code",
   "execution_count": null,
   "metadata": {
    "colab": {
     "base_uri": "https://localhost:8080/",
     "height": 34
    },
    "colab_type": "code",
    "id": "ShrBwj837bv0",
    "outputId": "dd2070b4-ea3f-41a0-c9b1-0e113fdb9baf"
   },
   "outputs": [],
   "source": [
    "f1_score(label_val,ymodel,average='weighted')"
   ]
  },
  {
   "cell_type": "code",
   "execution_count": null,
   "metadata": {
    "colab": {
     "base_uri": "https://localhost:8080/",
     "height": 84
    },
    "colab_type": "code",
    "id": "hy-j12RK7bv6",
    "outputId": "088fceb8-b8e4-4254-bc38-5f2a1a398b05"
   },
   "outputs": [],
   "source": [
    "precision_recall_fscore_support(label_val,ymodel)"
   ]
  },
  {
   "cell_type": "code",
   "execution_count": null,
   "metadata": {
    "colab": {},
    "colab_type": "code",
    "id": "onNoxUL87bv-"
   },
   "outputs": [],
   "source": []
  }
 ],
 "metadata": {
  "accelerator": "GPU",
  "colab": {
   "name": "LeNet-6-Colab.ipynb",
   "provenance": []
  },
  "kernelspec": {
   "display_name": "Python 3",
   "language": "python",
   "name": "python3"
  },
  "language_info": {
   "codemirror_mode": {
    "name": "ipython",
    "version": 3
   },
   "file_extension": ".py",
   "mimetype": "text/x-python",
   "name": "python",
   "nbconvert_exporter": "python",
   "pygments_lexer": "ipython3",
   "version": "3.7.6"
  }
 },
 "nbformat": 4,
 "nbformat_minor": 1
}
