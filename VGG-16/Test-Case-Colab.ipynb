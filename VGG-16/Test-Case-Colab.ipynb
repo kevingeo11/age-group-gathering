{
 "cells": [
  {
   "cell_type": "code",
   "execution_count": null,
   "metadata": {},
   "outputs": [],
   "source": [
    "import tensorflow as tf\n",
    "from tensorflow import keras\n",
    "from keras.layers import Dense, Dropout, Conv2D, MaxPooling2D, Flatten\n",
    "from keras.models import Sequential\n",
    "from keras import Model\n",
    "from keras import Input\n",
    "from keras.utils import plot_model\n",
    "from keras.layers import concatenate\n",
    "from keras.optimizers import Adam\n",
    "from keras.regularizers import l2\n",
    "from keras.callbacks import EarlyStopping, ModelCheckpoint\n",
    "from keras.models import load_model\n",
    "from keras import backend as K\n",
    "\n",
    "from sklearn.preprocessing import OneHotEncoder\n",
    "\n",
    "import numpy as np\n",
    "import pandas as pd\n",
    "import cv2\n",
    "import matplotlib.pyplot as plt\n",
    "import scipy.io as sio\n",
    "import os\n",
    "\n",
    "%matplotlib inline"
   ]
  },
  {
   "cell_type": "code",
   "execution_count": null,
   "metadata": {},
   "outputs": [],
   "source": [
    "from google.colab import drive\n",
    "drive.mount('/content/drive')"
   ]
  },
  {
   "cell_type": "code",
   "execution_count": null,
   "metadata": {},
   "outputs": [],
   "source": [
    "label_train = []\n",
    "\n",
    "for dirname, _, filenames in os.walk('/content/drive/My Drive/Project Data/Train/Adults'):\n",
    "    for filename in filenames[:-50]:\n",
    "        label_train.append(0)\n",
    "        \n",
    "for dirname, _, filenames in os.walk('/content/drive/My Drive/Project Data/Train/Teenagers'):\n",
    "    for filename in filenames[:-50]:\n",
    "        label_train.append(1)\n",
    "        \n",
    "for dirname, _, filenames in os.walk('/content/drive/My Drive/Project Data/Train/Toddler'):\n",
    "    for filename in filenames[:-50]:\n",
    "        label_train.append(2)"
   ]
  },
  {
   "cell_type": "code",
   "execution_count": null,
   "metadata": {},
   "outputs": [],
   "source": [
    "label_train = np.array(label_train).reshape(-1,1)"
   ]
  },
  {
   "cell_type": "code",
   "execution_count": null,
   "metadata": {},
   "outputs": [],
   "source": [
    "enc_y = OneHotEncoder(handle_unknown='ignore')\n",
    "enc_y.fit(label_train)"
   ]
  },
  {
   "cell_type": "code",
   "execution_count": null,
   "metadata": {},
   "outputs": [],
   "source": [
    "df_test = pd.read_csv('/content/drive/My Drive/Dataset/Test.csv')"
   ]
  },
  {
   "cell_type": "code",
   "execution_count": null,
   "metadata": {},
   "outputs": [],
   "source": [
    "df_test.head()"
   ]
  },
  {
   "cell_type": "code",
   "execution_count": null,
   "metadata": {},
   "outputs": [],
   "source": [
    "for dirname, _, filenames in os.walk('/content/drive/My Drive/Dataset/Test Data'):\n",
    "    break"
   ]
  },
  {
   "cell_type": "code",
   "execution_count": null,
   "metadata": {},
   "outputs": [],
   "source": [
    "filenames = list(df_test['Filename'])"
   ]
  },
  {
   "cell_type": "code",
   "execution_count": null,
   "metadata": {},
   "outputs": [],
   "source": [
    "imgloc_test = []\n",
    "\n",
    "for filename in filenames:\n",
    "    imgloc_test.append((os.path.join(dirname, filename)))"
   ]
  },
  {
   "cell_type": "code",
   "execution_count": null,
   "metadata": {},
   "outputs": [],
   "source": [
    "img_test = []\n",
    "\n",
    "for i in range(0, len(imgloc_test)):\n",
    "    img1 = cv2.imread(imgloc_test[i],1)\n",
    "    img2 = np.array(img1)\n",
    "    img2 = cv2.resize(img2,(224,224))\n",
    "    img_test.append(cv2.cvtColor(img2,cv2.COLOR_BGR2RGB))"
   ]
  },
  {
   "cell_type": "code",
   "execution_count": null,
   "metadata": {},
   "outputs": [],
   "source": [
    "img_test = np.array(img_test)"
   ]
  },
  {
   "cell_type": "code",
   "execution_count": null,
   "metadata": {},
   "outputs": [],
   "source": [
    "i = 5\n",
    "plt.imshow(img_test[i])"
   ]
  },
  {
   "cell_type": "code",
   "execution_count": null,
   "metadata": {},
   "outputs": [],
   "source": [
    "img_test.shape"
   ]
  },
  {
   "cell_type": "code",
   "execution_count": null,
   "metadata": {},
   "outputs": [],
   "source": [
    "x_test = img_test/255"
   ]
  },
  {
   "cell_type": "code",
   "execution_count": null,
   "metadata": {},
   "outputs": [],
   "source": [
    "x_test.shape"
   ]
  },
  {
   "cell_type": "code",
   "execution_count": null,
   "metadata": {},
   "outputs": [],
   "source": [
    "model = load_model('VGG16-Mod1-colab.h5')"
   ]
  },
  {
   "cell_type": "code",
   "execution_count": null,
   "metadata": {},
   "outputs": [],
   "source": [
    "# # reg = l2(1e-3)\n",
    "# reg = None\n",
    "\n",
    "# model = Sequential()\n",
    "\n",
    "# model.add(Conv2D(64, kernel_size = (3, 3), strides = (1, 1), activation = 'relu', input_shape = x_test[0].shape,\n",
    "#                  kernel_regularizer = reg, padding='same'))\n",
    "# model.add(Conv2D(64, kernel_size = (3, 3), strides = (1, 1), activation = 'relu',\n",
    "#                  padding='same', kernel_regularizer = reg))\n",
    "\n",
    "# model.add(MaxPooling2D(pool_size = (2, 2), strides = (2, 2)))\n",
    "\n",
    "# model.add(Conv2D(128, kernel_size = (3, 3), strides = (1, 1), activation = 'relu',\n",
    "#                  padding='same', kernel_regularizer = reg))\n",
    "# model.add(Conv2D(128, kernel_size = (3, 3), strides = (1, 1), activation = 'relu',\n",
    "#                  padding='same', kernel_regularizer = reg))\n",
    "\n",
    "# model.add(MaxPooling2D(pool_size = (2, 2), strides = (2, 2)))\n",
    "\n",
    "# model.add(Conv2D(256, kernel_size = (3, 3), strides = (1, 1), activation = 'relu',\n",
    "#                  padding='same', kernel_regularizer = reg))\n",
    "# model.add(Conv2D(256, kernel_size = (3, 3), strides = (1, 1), activation = 'relu',\n",
    "#                  padding='same', kernel_regularizer = reg))\n",
    "\n",
    "# model.add(MaxPooling2D(pool_size = (2, 2), strides = (2, 2)))\n",
    "\n",
    "# model.add(Conv2D(512, kernel_size = (3, 3), strides = (1, 1), activation = 'relu',\n",
    "#                  padding='same', kernel_regularizer = reg))\n",
    "# model.add(Conv2D(512, kernel_size = (3, 3), strides = (1, 1), activation = 'relu',\n",
    "#                  padding='same', kernel_regularizer = reg))\n",
    "\n",
    "# model.add(MaxPooling2D(pool_size = (2, 2), strides = (2, 2)))\n",
    "\n",
    "# model.add(Conv2D(512, kernel_size = (3, 3), strides = (1, 1), activation = 'relu',\n",
    "#                  padding='same', kernel_regularizer = reg))\n",
    "# model.add(Conv2D(512, kernel_size = (3, 3), strides = (1, 1), activation = 'relu',\n",
    "#                  padding='same', kernel_regularizer = reg))\n",
    "\n",
    "# model.add(MaxPooling2D(pool_size = (2, 2), strides = (2, 2)))\n",
    "\n",
    "# model.add(Conv2D(512, kernel_size = (3, 3), strides = (1, 1), activation = 'relu',\n",
    "#                  padding='same', kernel_regularizer = reg))\n",
    "# model.add(Conv2D(512, kernel_size = (3, 3), strides = (1, 1), activation = 'relu',\n",
    "#                  padding='same', kernel_regularizer = reg))\n",
    "\n",
    "# model.add(MaxPooling2D(pool_size = (2, 2), strides = (2, 2)))\n",
    "\n",
    "# model.add(Conv2D(512, kernel_size = (3, 3), strides = (1, 1), activation = 'relu',\n",
    "#                  padding='same', kernel_regularizer = reg))\n",
    "\n",
    "# model.add(Flatten())\n",
    "\n",
    "# model.add(Dense(2048, activation = 'relu', kernel_regularizer = reg))\n",
    "# model.add(Dense(1024, activation = 'relu', kernel_regularizer = reg))\n",
    "# model.add(Dense(512, activation = 'relu', kernel_regularizer = reg))\n",
    "# model.add(Dense(3, activation = 'softmax', kernel_regularizer = reg))\n",
    "\n",
    "# model.load_weights('VGG16-Mod1-colab.h5')"
   ]
  },
  {
   "cell_type": "code",
   "execution_count": null,
   "metadata": {},
   "outputs": [],
   "source": [
    "ymodel = model.predict(x_test)\n",
    "ymodel = enc_y.inverse_transform(ymodel)"
   ]
  },
  {
   "cell_type": "code",
   "execution_count": null,
   "metadata": {},
   "outputs": [],
   "source": [
    "ymodel_label = []\n",
    "for i in range(ymodel.shape[0]):\n",
    "    if(ymodel[i,0] == 0): ymodel_label.append('Adults')\n",
    "    elif(ymodel[i,0] == 1): ymodel_label.append('Teenagers')\n",
    "    else: ymodel_label.append('Toddler')"
   ]
  },
  {
   "cell_type": "code",
   "execution_count": null,
   "metadata": {},
   "outputs": [],
   "source": [
    "df_test['Category'] = ymodel_label"
   ]
  },
  {
   "cell_type": "code",
   "execution_count": null,
   "metadata": {},
   "outputs": [],
   "source": [
    "df_test.head()"
   ]
  },
  {
   "cell_type": "code",
   "execution_count": null,
   "metadata": {},
   "outputs": [],
   "source": [
    "df_test.to_csv('/content/drive/My Drive/output.csv', index=False)"
   ]
  }
 ],
 "metadata": {
  "kernelspec": {
   "display_name": "Python 3",
   "language": "python",
   "name": "python3"
  },
  "language_info": {
   "codemirror_mode": {
    "name": "ipython",
    "version": 3
   },
   "file_extension": ".py",
   "mimetype": "text/x-python",
   "name": "python",
   "nbconvert_exporter": "python",
   "pygments_lexer": "ipython3",
   "version": "3.7.6"
  }
 },
 "nbformat": 4,
 "nbformat_minor": 4
}
